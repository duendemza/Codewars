{
  "nbformat": 4,
  "nbformat_minor": 0,
  "metadata": {
    "colab": {
      "name": "Google - Challenges",
      "provenance": [],
      "collapsed_sections": [],
      "authorship_tag": "ABX9TyPGTM4L2yayKJNOzgOqtrG/",
      "include_colab_link": true
    },
    "kernelspec": {
      "name": "python3",
      "display_name": "Python 3"
    }
  },
  "cells": [
    {
      "cell_type": "markdown",
      "metadata": {
        "id": "view-in-github",
        "colab_type": "text"
      },
      "source": [
        "<a href=\"https://colab.research.google.com/github/duendemza/Codewars/blob/master/Google_Challenge_1.ipynb\" target=\"_parent\"><img src=\"https://colab.research.google.com/assets/colab-badge.svg\" alt=\"Open In Colab\"/></a>"
      ]
    },
    {
      "cell_type": "markdown",
      "metadata": {
        "id": "qD40h9eccFr7",
        "colab_type": "text"
      },
      "source": [
        "**The Challenge**\n",
        "\n",
        "In this exercise, you're going to decompress a compressed string.\n",
        "Your input is a compressed string of the format number[string] and the decompressed output form should be the string written number times. For example:\n",
        "The input\n",
        "3[abc]4[ab]c\n",
        "Would be output as\n",
        "abcabcabcababababc\n",
        "\n",
        "**Other rules**\n",
        "\n",
        "- *Number* can have more than one digit. For example, 10[a] is allowed, and just means aaaaaaaaaa\n",
        "\n",
        "- One repetition can occur inside another. For example, 2[3[a]b] decompresses into aaabaaab\n",
        "Characters allowed as input include digits, small English letters and brackets [ ].\n",
        "*Digits* are only to represent amount of repetitions.\n",
        "Letters are just letters.\n",
        "*Brackets* are only part of syntax of writing repeated substring.\n",
        "Input is always valid, so no need to check its validity.\n",
        "Learning objectives\n",
        "This question gives you the chance to practice with strings, recursion, algorithm, compilers, automata, and loops. It’s also an opportunity to work on coding with better efficiency."
      ]
    },
    {
      "cell_type": "code",
      "metadata": {
        "id": "5Gy1Qrxy9ZoU",
        "colab_type": "code",
        "colab": {}
      },
      "source": [
        "def separate_string(lista):\n",
        "  nros = ''\n",
        "  n = []\n",
        "  letras = ''\n",
        "  l = []\n",
        "  for c in lista:\n",
        "    if c in ('0123456789'):\n",
        "      nros += c\n",
        "    elif c != '[' and c != ']':\n",
        "      letras += c\n",
        "    elif c == '[':  # if we see this character it means that the digit part finished\n",
        "      n.append(int(nros))\n",
        "      nros = ''\n",
        "    elif c == ']':  # if we see this character it means that the letter part finished\n",
        "      l.append(letras)\n",
        "      letras = ''\n",
        "\n",
        "  if len(letras):\n",
        "    l.append(letras)\n",
        "\n",
        "  return n, l"
      ],
      "execution_count": 48,
      "outputs": []
    },
    {
      "cell_type": "code",
      "metadata": {
        "id": "5BBX6MSTSQ8q",
        "colab_type": "code",
        "colab": {}
      },
      "source": [
        "def print_solution(cant, words):\n",
        "  len_cant = len(cant)\n",
        "  len_words = len(words)\n",
        "  solution = ''\n",
        "\n",
        "  for i in range(0,len(cant)):\n",
        "    solution += cant[i]*words[i]\n",
        "\n",
        "  if len_cant < len_words:\n",
        "    rest = len_words - len_cant\n",
        "    solution += words[len_words-rest]\n",
        "\n",
        "  return solution"
      ],
      "execution_count": 47,
      "outputs": []
    },
    {
      "cell_type": "code",
      "metadata": {
        "id": "FJwYciBh-NsX",
        "colab_type": "code",
        "colab": {
          "base_uri": "https://localhost:8080/",
          "height": 86
        },
        "outputId": "b0a470a0-9202-47bf-b87c-cab944ee07bd"
      },
      "source": [
        "def test_challenge(string, output):\n",
        "  cant, words = separate_string(string)\n",
        "  solution = print_solution(cant, words)\n",
        "  print(output == solution, solution)\n",
        "  assert output == solution\n",
        "\n",
        "test_challenge('10[a]', 'aaaaaaaaaa')\n",
        "test_challenge('3[abc]4[ab]c', 'abcabcabcababababc')\n"
      ],
      "execution_count": 55,
      "outputs": [
        {
          "output_type": "stream",
          "text": [
            "['a'] [10]\n",
            "True aaaaaaaaaa\n",
            "['abc', 'ab'] [3, 4]\n",
            "True abcabcabcababababc\n"
          ],
          "name": "stdout"
        }
      ]
    },
    {
      "cell_type": "code",
      "metadata": {
        "colab_type": "code",
        "id": "FP6PQtXfxHIO",
        "colab": {}
      },
      "source": [
        "def separate_complex(lista):\n",
        "  n = {}\n",
        "  letters = {}\n",
        "  k = []\n",
        "\n",
        "  response = {}\n",
        "  count = 0\n",
        "\n",
        "  for l in lista:\n",
        "    if l == '[' or 1 == ']':\n",
        "      count += 1\n",
        "    elif l in '0123456789':\n",
        "      n[count] = l\n",
        "    elif l != '[' and 1 != ']':\n",
        "      letters[count] = l\n",
        "\n",
        "\n",
        "  print(n, letters)"
      ],
      "execution_count": 145,
      "outputs": []
    },
    {
      "cell_type": "code",
      "metadata": {
        "id": "ecdaUj5FywbY",
        "colab_type": "code",
        "colab": {
          "base_uri": "https://localhost:8080/",
          "height": 52
        },
        "outputId": "0b529330-6795-4766-ac35-1289a634ae93"
      },
      "source": [
        "def test_complex(string, output):\n",
        "  response = separate_complex(string)\n",
        "  print(response)\n",
        "  # solution = print_solution(cant, words)\n",
        "  # assert output == solution\n",
        "\n",
        "test_complex('2[3[a]b]', 'aaabaaab')"
      ],
      "execution_count": 144,
      "outputs": [
        {
          "output_type": "stream",
          "text": [
            "{0: '2', 1: '3'} {2: ']'} 2[3[a]b]\n",
            "None\n"
          ],
          "name": "stdout"
        }
      ]
    }
  ]
}